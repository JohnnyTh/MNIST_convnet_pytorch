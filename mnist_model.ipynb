{
  "nbformat": 4,
  "nbformat_minor": 0,
  "metadata": {
    "colab": {
      "name": "mnist_model.ipynb",
      "provenance": [],
      "collapsed_sections": [],
      "include_colab_link": true
    },
    "kernelspec": {
      "name": "python3",
      "display_name": "Python 3"
    },
    "accelerator": "GPU"
  },
  "cells": [
    {
      "cell_type": "markdown",
      "metadata": {
        "id": "view-in-github",
        "colab_type": "text"
      },
      "source": [
        "<a href=\"https://colab.research.google.com/github/JohnnyTh/MNIST_convnet_pytorch/blob/master/mnist_model.ipynb\" target=\"_parent\"><img src=\"https://colab.research.google.com/assets/colab-badge.svg\" alt=\"Open In Colab\"/></a>"
      ]
    },
    {
      "cell_type": "markdown",
      "metadata": {
        "id": "18OpjS3mXdro",
        "colab_type": "text"
      },
      "source": [
        "# MNIST dataset classification model"
      ]
    },
    {
      "cell_type": "code",
      "metadata": {
        "id": "FHnXJcibyXt8",
        "colab_type": "code",
        "colab": {}
      },
      "source": [
        "# !pip install -q torch torchvision\n",
        "# !pip install torchvision\n",
        "# !pip install numpy\n",
        "# !pip install matplotlib"
      ],
      "execution_count": 0,
      "outputs": []
    },
    {
      "cell_type": "code",
      "metadata": {
        "id": "bqnH4fkY48SV",
        "colab_type": "code",
        "outputId": "68f4acf2-5974-4ef5-d57b-932b59ed4f1a",
        "colab": {
          "base_uri": "https://localhost:8080/",
          "height": 34
        }
      },
      "source": [
        "import sys\n",
        "import os\n",
        "from datetime import datetime\n",
        "sys.version"
      ],
      "execution_count": 1,
      "outputs": [
        {
          "output_type": "execute_result",
          "data": {
            "text/plain": [
              "'3.6.8 (default, Jan 14 2019, 11:02:34) \\n[GCC 8.0.1 20180414 (experimental) [trunk revision 259383]]'"
            ]
          },
          "metadata": {
            "tags": []
          },
          "execution_count": 1
        }
      ]
    },
    {
      "cell_type": "code",
      "metadata": {
        "id": "r-Wsq9Mb2FqW",
        "colab_type": "code",
        "colab": {}
      },
      "source": [
        "import math\n",
        "import pickle\n",
        "import requests\n",
        "import gzip\n",
        "import numpy as np\n",
        "import matplotlib.pyplot as plt\n",
        "import torch\n",
        "import torch.nn as nn\n",
        "import torch.optim as optim\n",
        "import torchvision.transforms as transforms\n",
        "from torch.autograd import Variable\n",
        "from torch.utils.data import Dataset, DataLoader, Subset, ConcatDataset"
      ],
      "execution_count": 0,
      "outputs": []
    },
    {
      "cell_type": "code",
      "metadata": {
        "id": "QzHgzXTw9UDH",
        "colab_type": "code",
        "outputId": "e23f13ea-46db-4920-9e79-ab8e9000c1e4",
        "colab": {
          "base_uri": "https://localhost:8080/",
          "height": 67
        }
      },
      "source": [
        "# Check if pytorch is using GPU: \n",
        "print('Used device name: {}'.format(torch.cuda.get_device_name(0)))\n",
        "print('Amount of used devices: {}'.format(torch.cuda.device_count()))\n",
        "print('Cuda available: {}'.format(torch.cuda.is_available()))"
      ],
      "execution_count": 3,
      "outputs": [
        {
          "output_type": "stream",
          "text": [
            "Used device name: Tesla K80\n",
            "Amount of used devices: 1\n",
            "Cuda available: True\n"
          ],
          "name": "stdout"
        }
      ]
    },
    {
      "cell_type": "code",
      "metadata": {
        "id": "C-_gNqDTsYRt",
        "colab_type": "code",
        "outputId": "ce6769ed-c979-451e-a997-a0a32483c06c",
        "colab": {
          "base_uri": "https://localhost:8080/",
          "height": 50
        }
      },
      "source": [
        "BASE_DIR = os.path.dirname(os.path.abspath('__file__'))\n",
        "MODEL_PATH = os.path.join(BASE_DIR, 'mnsit_model.pth')\n",
        "LOGS_PATH = os.path.join(BASE_DIR, 'logs.txt')\n",
        "print('Base directory location: {}'.format(BASE_DIR))\n",
        "print('Path to stored model parameters: {}'.format(MODEL_PATH))"
      ],
      "execution_count": 4,
      "outputs": [
        {
          "output_type": "stream",
          "text": [
            "Base directory location: /content\n",
            "Path to stored model parameters: /content/mnsit_model.pth\n"
          ],
          "name": "stdout"
        }
      ]
    },
    {
      "cell_type": "code",
      "metadata": {
        "id": "2cpt7fZ4K8iJ",
        "colab_type": "code",
        "colab": {}
      },
      "source": [
        "class MnistDataset(Dataset):\n",
        "    \"\"\"Args:\n",
        "            gzip_data (file object):  an object exctracted from open zip file. \n",
        "            train_or_test (string): can be either 'train' 'test'. Needed to\n",
        "                            specify which of the tuples to load using pickle.\n",
        "            img_size (integer): size of the square images in dataset.\n",
        "            transform (callable, optional): Optional transform to be applied\n",
        "            on a sample.\n",
        "    \"\"\"\n",
        "\n",
        "\n",
        "    def __init__(self, gzip_data, train_or_test, img_size, transform=None):\n",
        "        if train_or_test == 'train':\n",
        "            data = pickle.load(gzip_data, encoding='latin-1')[0]\n",
        "        elif train_or_test == 'test':\n",
        "            data = pickle.load(gzip_data, encoding='latin-1')[2]\n",
        "        else:\n",
        "            raise Exception(\"'train' ot 'test' keyword not specified!\")\n",
        "        # reshape the image data into (N, H, W, C) if you will use ToTensor()\n",
        "        self.data, self.labels = data\n",
        "        self.data = self.data.reshape(-1, img_size, img_size, 1)\n",
        "        self.transform = transform\n",
        "        self.mode = train_or_test\n",
        "\n",
        "\n",
        "    def __len__(self):\n",
        "        return len(self.data)\n",
        "\n",
        "\n",
        "    def __getitem__(self, idx):\n",
        "        img = self.data[idx]\n",
        "        label = self.labels[idx]\n",
        "\n",
        "        if self.transform:\n",
        "            img = self.transform(img)\n",
        "\n",
        "        return img, label\n",
        "\n",
        "\n",
        "    def __str__(self):\n",
        "        info = \"\"\"The {} dataset consists of {} images of size {} and {} labels.\n",
        "        \\nImage matrix format: {}, label matrix format: {}.\n",
        "               \"\"\".format(self.mode, self.data.shape[0], \n",
        "                          self.data.shape[1:], self.labels.shape[0],\n",
        "                          self.data.shape, self.labels.shape)\n",
        "        \n",
        "        return info\n",
        "\n",
        "class MnistSubset(Subset):\n",
        "    \"\"\"\n",
        "    Subset of a dataset at specified indices.\n",
        "\n",
        "    Arguments:\n",
        "        dataset (Dataset): The whole Dataset\n",
        "        indices (sequence): Indices in the whole set selected for subset\n",
        "        transform (callable, optional): Optional transform to be applied\n",
        "                on a subset.\n",
        "    \"\"\"\n",
        "    def __init__(self, dataset, indices, transform=None):\n",
        "        self.dataset = dataset\n",
        "        self.indices = indices\n",
        "        self.transform = transform\n",
        "\n",
        "\n",
        "    def __getitem__(self, idx):\n",
        "        img = self.dataset[self.indices[idx]][0]\n",
        "        label = self.dataset[self.indices[idx]][1]\n",
        "\n",
        "        if self.transform:\n",
        "            img = self.transform(img)\n",
        "        return img, label"
      ],
      "execution_count": 0,
      "outputs": []
    },
    {
      "cell_type": "code",
      "metadata": {
        "id": "soDILgt8bODk",
        "colab_type": "code",
        "colab": {}
      },
      "source": [
        "# Download the dataset from an open source\n",
        "def get_mnist_data():\n",
        "    url = 'http://deeplearning.net/data/mnist/mnist.pkl.gz'\n",
        "    r = requests.get(url)\n",
        "    local_file_path = os.path.join(BASE_DIR, 'mnist.pkl.gz')\n",
        "    with open(local_file_path, 'wb') as f:\n",
        "        f.write(r.content)\n",
        "\n",
        "get_mnist_data()\n",
        "\n",
        "with gzip.open('/content/mnist.pkl.gz', 'r') as gzip_data:\n",
        "    mnist_train = MnistDataset(gzip_data, 'train', 28, transform = transforms.ToTensor())\n",
        "\n",
        "# create 30,000 random indices to draw a sample from train dataset\n",
        "indices = np.random.randint(0, len(mnist_train), 30000)\n",
        "mnist_train_transf = MnistSubset(mnist_train, indices, \n",
        "                                transform=transforms.Compose([transforms.ToPILImage(),\n",
        "                                                              transforms.RandomPerspective(p=1.0), \n",
        "                                                              transforms.ToTensor()]))\n",
        "# Merge original dataset and transformed subset.\n",
        "mnist_train_merged = ConcatDataset([mnist_train, mnist_train_transf])\n",
        "\n",
        "with gzip.open('/content/mnist.pkl.gz', 'r') as gzip_data:\n",
        "    mnist_test = MnistDataset(gzip_data, 'test', 28, transform=transforms.ToTensor())\n",
        "\n",
        "\n",
        "# Prepare train and test minibatch loaders\n",
        "minibatch_size = 128\n",
        "\n",
        "train_loader = torch.utils.data.DataLoader(mnist_train_merged, batch_size=minibatch_size, \n",
        "                                          shuffle=True, num_workers=2)\n",
        "\n",
        "test_loader = torch.utils.data.DataLoader(mnist_test, batch_size=minibatch_size,\n",
        "                                         shuffle=False, num_workers=2)"
      ],
      "execution_count": 0,
      "outputs": []
    },
    {
      "cell_type": "code",
      "metadata": {
        "id": "eSCUEN7A8Oe0",
        "colab_type": "code",
        "outputId": "d5595f76-b77a-45ff-8bd0-a5de2f526692",
        "colab": {
          "base_uri": "https://localhost:8080/",
          "height": 298
        }
      },
      "source": [
        "# Examine the data:\n",
        "img, label = mnist_train_merged[7]\n",
        "\n",
        "plt.title('True label: {}'.format(label))\n",
        "plt.imshow(img.squeeze(0).numpy())"
      ],
      "execution_count": 7,
      "outputs": [
        {
          "output_type": "execute_result",
          "data": {
            "text/plain": [
              "<matplotlib.image.AxesImage at 0x7fa3c03a2eb8>"
            ]
          },
          "metadata": {
            "tags": []
          },
          "execution_count": 7
        },
        {
          "output_type": "display_data",
          "data": {
            "image/png": "[encoded data removed]",
            "text/plain": [
              "<Figure size 432x288 with 1 Axes>"
            ]
          },
          "metadata": {
            "tags": []
          }
        }
      ]
    },
    {
      "cell_type": "code",
      "metadata": {
        "id": "yHT3DGzWE7WF",
        "colab_type": "code",
        "colab": {}
      },
      "source": [
        "def same_padding_calc(inp_shape, kernel_shape, stride):\n",
        "    \"\"\"\n",
        "       !Attention - only square image padding calculation implemented!\n",
        "       Calculates the size of 'same' padding  for CONV layers.\n",
        "\n",
        "       Args:\n",
        "       kernel_shape (int or tuple): the shape of the kernel(filter).\n",
        "       inp_shape (int or tuple): the shape of the input.\n",
        "       stride (int).\n",
        "\n",
        "       Returns: \n",
        "       res (int or tuple): 'same' padding size.\n",
        "    \"\"\"\n",
        "    if type(inp_shape) == int and type(kernel_shape) == int:\n",
        "        res = (inp_shape * stride - inp_shape - stride + kernel_shape) // 2\n",
        "        return res\n",
        "    elif type(inp_shape) == tuple and type(kernel_shape) == int:\n",
        "        res = None\n",
        "        return res\n",
        "    elif type(inp_shape) == int and type(kernel_shape) == tuple:\n",
        "        res = None\n",
        "        return res\n",
        "    elif type(inp_shape) == tuple and type(kernel_shape) == tuple:\n",
        "        res = None\n",
        "        return res\n",
        "    else:\n",
        "        res = None\n",
        "        return res\n",
        "\n",
        "conv_1_pad = same_padding_calc(28, 5, 1)\n",
        "conv_2_pad = same_padding_calc(14, 3, 1)"
      ],
      "execution_count": 0,
      "outputs": []
    },
    {
      "cell_type": "code",
      "metadata": {
        "id": "SNj8rtFBHtaC",
        "colab_type": "code",
        "colab": {}
      },
      "source": [
        "# Various helper functions to run the model\n",
        "def weights_init(m):\n",
        "    \"\"\"Xavier weight initialization func.\"\"\"\n",
        "    if isinstance(m, nn.Conv2d) or isinstance(m, nn.Linear):\n",
        "        torch.nn.init.xavier_uniform_(m.weight.data)\n",
        "\n",
        "\n",
        "def minibatch_to_cuda(minibatch, model):\n",
        "    \"\"\"\n",
        "       \n",
        "    \"\"\"\n",
        "    inputs, labels = minibatch\n",
        "    if model.cuda():\n",
        "        inputs = inputs.cuda()\n",
        "        labels = labels.cuda()\n",
        "\n",
        "    return inputs, labels\n",
        "\n",
        "\n",
        "def prediction_count(dataset_loader, model):\n",
        "    \"\"\"\n",
        "    Calculates the amount of total and correct predictions of the trained model.\n",
        "\n",
        "    Args:\n",
        "         dataset_loader (DataLoader object): an instance of DataLoader class, \n",
        "                        usually corresponding to train, test or dev set.\n",
        "         model (Nist_Net):an instance of custom neural network class inhereting \n",
        "                        from nn.Module class.\n",
        "\n",
        "    Returns:\n",
        "         total, correct (float): number of total and correctly guessed labels.\n",
        "    \"\"\"\n",
        "    model = model.eval()\n",
        "\n",
        "    total = 0\n",
        "    correct = 0\n",
        "\n",
        "    for minibatch in dataset_loader:\n",
        "        inputs, labels = minibatch_to_cuda(minibatch, model)\n",
        "\n",
        "        outputs = model(inputs)\n",
        "        _, predicted = torch.max(outputs, 1)\n",
        "        total += labels.shape[0]\n",
        "        correct += (predicted == labels).sum().item()\n",
        "\n",
        "    return total, correct\n",
        "\n",
        "\n",
        "def forward_pass(dataset_loader, model):\n",
        "    \"\"\"\n",
        "       Makes one pass through all the dataset using the provided model, collects\n",
        "       model outputs.\n",
        "\n",
        "       Args: dataset_loader (DataLoader): an instance of DataLoader class, \n",
        "                    usually corresponding to train, test, or dev set.\n",
        "             model (Nist_Net): an instance of custom neural network class inhereting \n",
        "                    from nn.Module class.\n",
        "\n",
        "       Returns: 'outputs_all', 'labels_all' (torch.Tensor objects)\n",
        "    \"\"\"\n",
        "    model = model.eval()\n",
        "    outputs_all = []\n",
        "    labels_all = []\n",
        "    for minibatch in dataset_loader:\n",
        "        inputs, labels = minibatch_to_cuda(minibatch, model)\n",
        "        output = model(inputs)\n",
        "\n",
        "        outputs_all.append(output)\n",
        "        labels_all.append(labels)\n",
        "\n",
        "    outputs_all = torch.cat(outputs_all)\n",
        "    labels_all = torch.cat(labels_all)\n",
        "\n",
        "    return outputs_all, labels_all\n",
        "\n",
        "def plot_train_results(epochs, costs, train_error, test_error):\n",
        "    \"\"\"\n",
        "       Plots learning curve, train error and test error w.r.t. epochs\n",
        "       Args:\n",
        "            epochs (int): number of traning epochs\n",
        "            costs(list): values returned by cost(loss) function during the training\n",
        "            train_error (dict): contains lists of epochs and respective train dataset errors\n",
        "            test_error (dict): contains lists of epochs and respective test dataset errors\n",
        "    \"\"\"\n",
        "    plt.figure( figsize=(6, 4), dpi=120, facecolor='w', edgecolor='k')\n",
        "\n",
        "    plt.plot(np.arange(epochs), costs, color='r', label='cost')\n",
        "    ax1 = plt.gca()\n",
        "    ax1.set(xlabel= 'Num. of epochs', ylabel = 'Cost', title='Cost vs epochs')\n",
        "    ax1.set_xlim(left=np.arange(epochs).min(), right = np.arange(epochs).max())\n",
        "    ax1.set_ylim(min(costs), max(costs))\n",
        "    ax1.legend(loc = 9)\n",
        "\n",
        "    ax2 = ax1.twinx() \n",
        "    ax2.plot(train_error['epoch'], train_error['error'], label = 'train set error')\n",
        "    ax2.plot(test_error['epoch'], test_error['error'], label = 'test set error')\n",
        "    ax2.set(ylabel='Error, %')\n",
        "    ax2.set_ylim()\n",
        "    ax2.legend()\n",
        "\n",
        "    plt.plot()\n",
        "\n",
        "def check_gpu_memory():\n",
        "    memory_usage = (torch.cuda.memory_allocated(device)/torch.cuda.get_device_properties(device).total_memory)*100\n",
        "    return  memory_usage"
      ],
      "execution_count": 0,
      "outputs": []
    },
    {
      "cell_type": "markdown",
      "metadata": {
        "id": "WOS5GEVdndLw",
        "colab_type": "text"
      },
      "source": [
        "\n",
        "# NN info:\n",
        "\n",
        "IN: Tensor (N, 1, 28, 28)\n",
        "\n",
        ">NN structure:\n",
        "1. CONV2d(5x5x1, s=1, p='same') -> ReLU\n",
        "2. Max.POOl(2x2, s=2)\n",
        "3. CONV2d(3x3x32, s=1, p='same') -> ReLU\n",
        "4. Max.POOL(2x2, s=2)\n",
        "5. Dropout() -> FC(256) -> ReLU -> Dropout()\n",
        "6. FC(128) -> ReLU -> Dropout()\n",
        "7. FC(10)\n",
        "\n",
        ">Tensor shapes:\n",
        "0. N, 1, 28, 28\n",
        "1. N, 32, 28, 28        Params: 5 x 5 x 32 (weights) + 32 (intercept)\n",
        "2. N, 32, 14, 14 \n",
        "3. N, 64, 14, 14        Params: 3 x 3 x 64 (weights) + 64 (intercept)\n",
        "4. N, 64, 7, 7\n",
        "5. N, 256, 3136         Params: 128 x (64 x 7 x 7) + 128 (intercept)\n",
        "6. N, 128, 256           Params: 64 x 128 + 64\n",
        "7. (N, 10)\n",
        "\n",
        "OUT: Tensor (N, 10)"
      ]
    },
    {
      "cell_type": "code",
      "metadata": {
        "id": "IKNXTzUb_JnL",
        "colab_type": "code",
        "outputId": "11cf396e-8a74-4259-fed7-33140c6ce987",
        "colab": {
          "base_uri": "https://localhost:8080/",
          "height": 370
        }
      },
      "source": [
        "class Nist_Net(nn.Module):\n",
        "\n",
        "\n",
        "    def __init__(self):\n",
        "        # super function to call init method of parent class nn.Module\n",
        "        super(Nist_Net, self).__init__()\n",
        "\n",
        "        \"\"\"\n",
        "        Role of the 'features' layer - recognition of various visual patterns in \n",
        "        the images. The first CONV - ReLU - MaxPool layer detecs simplier features\n",
        "        (vertical, horizontal edges, etc.), while the second such layer identifies\n",
        "        more complex patterns(e.g. sahpes corresponding to different numbers) \n",
        "        composed of the features.\n",
        "        \"\"\"\n",
        "        self.features = nn.Sequential(\n",
        "            nn.Conv2d(1, 32, 5, stride=1, padding=conv_1_pad),\n",
        "            nn.ReLU(),\n",
        "            nn.MaxPool2d(2, stride=2),\n",
        "                                      \n",
        "            nn.Conv2d(32, 64, 3, stride=1, padding=conv_2_pad),\n",
        "            nn.ReLU(),\n",
        "            nn.MaxPool2d(2, stride=2)                     \n",
        "        )\n",
        "\n",
        "        \"\"\"\n",
        "        Role of the 'fc' layers - making a prediction which of the target numbers \n",
        "        the visual pattern detected by the 'features' corresponds the most to.\n",
        "        This can be done because FC layers have (as the name implies) connections\n",
        "        with all the units from the previous layers.\n",
        "        \"\"\"\n",
        "        self.fc_1 = nn.Sequential(\n",
        "           nn.Linear(64 * 7 * 7, 256),\n",
        "           nn.ReLU(),\n",
        "           )\n",
        "        self.fc_2 = nn.Sequential(\n",
        "           nn.Linear(256, 128),\n",
        "           nn.ReLU(),\n",
        "        )\n",
        "        self.fc_3 = nn.Linear(128, 10)\n",
        "\n",
        "        \"\"\"Dropout is used to randomly zero some of the elements of layers' inputs \n",
        "        in order to make the model generalize better and prevent co-adaptaion \n",
        "        of neurons.\"\"\"\n",
        "        self.Dropout_1 = nn.Dropout(p=0.2)\n",
        "        self.Dropout_2 = nn.Dropout(p=0.35)\n",
        "\n",
        "\n",
        "    def forward(self, x):\n",
        "        \"\"\"Performs forward propagation\n",
        "\n",
        "           Args:\n",
        "                x (Tensor): a tensor containing input features.\n",
        "        \"\"\"\n",
        "        x = self.features(x)\n",
        "        x = x.view(x.shape[0], -1)\n",
        "\n",
        "        # Perform dropout before and after the first fc layer\n",
        "        if self.training:\n",
        "            x = self.Dropout_2(x)\n",
        "        x = self.fc_1(x)\n",
        "        if self.training:\n",
        "            x = self.Dropout_1(x)\n",
        "\n",
        "        x = self.fc_2(x)\n",
        "        if self.training:\n",
        "            x = self.Dropout_1(x)\n",
        "\n",
        "        x = self.fc_3(x)\n",
        "        return x\n",
        "\n",
        "net = Nist_Net()\n",
        "\n",
        "# Define a Loss function and an optimizer\n",
        "criterion = nn.CrossEntropyLoss()\n",
        "optimizer = optim.Adam(net.parameters(), lr = 0.003)\n",
        "\n",
        "# Set a learning rate scheduler\n",
        "lambda_1 = lambda epoch: 0.89 ** epoch\n",
        "scheduler = optim.lr_scheduler.LambdaLR(optimizer, lr_lambda=lambda_1)\n",
        "\n",
        "load_checkpoint = False\n",
        "\n",
        "if load_checkpoint:\n",
        "    checkpoint = torch.load(MODEL_PATH)\n",
        "    net.load_state_dict(checkpoint['model_state_dict'])\n",
        "    optimizer.load_state_dict(checkpoint['optimizer_state_dict'])\n",
        "else:\n",
        "    # reset the weights of the model using Xavier init \n",
        "    # if the weights were not loaded from checkpoint\n",
        "    net.apply(weights_init)\n",
        "\n",
        "# Select the available gpu and convert the net into cuda tensors\n",
        "device = torch.device(\"cuda:0\" if torch.cuda.is_available() else \"cpu\")\n",
        "net = net.to(device)\n",
        "\n",
        "print(net)\n",
        "gpu_usage = check_gpu_memory()\n",
        "print('Current GPU memory usage: {} %'.format(gpu_usage))"
      ],
      "execution_count": 11,
      "outputs": [
        {
          "output_type": "stream",
          "text": [
            "Nist_Net(\n",
            "  (features): Sequential(\n",
            "    (0): Conv2d(1, 32, kernel_size=(5, 5), stride=(1, 1), padding=(2, 2))\n",
            "    (1): ReLU()\n",
            "    (2): MaxPool2d(kernel_size=2, stride=2, padding=0, dilation=1, ceil_mode=False)\n",
            "    (3): Conv2d(32, 64, kernel_size=(3, 3), stride=(1, 1), padding=(1, 1))\n",
            "    (4): ReLU()\n",
            "    (5): MaxPool2d(kernel_size=2, stride=2, padding=0, dilation=1, ceil_mode=False)\n",
            "  )\n",
            "  (fc_1): Sequential(\n",
            "    (0): Linear(in_features=3136, out_features=256, bias=True)\n",
            "    (1): ReLU()\n",
            "  )\n",
            "  (fc_2): Sequential(\n",
            "    (0): Linear(in_features=256, out_features=128, bias=True)\n",
            "    (1): ReLU()\n",
            "  )\n",
            "  (fc_3): Linear(in_features=128, out_features=10, bias=True)\n",
            "  (Dropout_1): Dropout(p=0.2)\n",
            "  (Dropout_2): Dropout(p=0.35)\n",
            ")\n"
          ],
          "name": "stdout"
        }
      ]
    },
    {
      "cell_type": "markdown",
      "metadata": {
        "id": "MkrlEzTn_35t",
        "colab_type": "text"
      },
      "source": [
        "> Code to run the training loop and visiualize the reuslts:\n",
        "\n"
      ]
    },
    {
      "cell_type": "code",
      "metadata": {
        "id": "OiruSiNtcNy2",
        "colab_type": "code",
        "outputId": "35367830-69f9-4b00-87db-e1059c195c85",
        "colab": {
          "base_uri": "https://localhost:8080/",
          "height": 1000
        }
      },
      "source": [
        "# Some initial runtime model  parameters\n",
        "epochs = 40\n",
        "\n",
        "costs = []\n",
        "train_error = {'epoch': [], 'error': []}\n",
        "test_error = {'epoch': [], 'error': []}\n",
        "torch.manual_seed(42)\n",
        "\n",
        "# Set a log recorder\n",
        "dateTimeObj = datetime.now()\n",
        "time = dateTimeObj.strftime(\"%d-%b-%Y %H:%M:%S\")\n",
        "f = open(LOGS_PATH, 'a+')\n",
        "# Record the data regarding the model structure and params before the train session\n",
        "f.write('\\n' + net.__repr__())\n",
        "f.write('\\n' +'Initial learning rate: '+ str(optimizer.state_dict()['param_groups'][0]['lr'])+'\\n')\n",
        "f.write('Starting session at {}\\n'.format(time))\n",
        "\n",
        "\n",
        "net = net.train()\n",
        "for epoch in range(1, epochs+1):\n",
        "\n",
        "    minibatch_cost = 0.\n",
        "    for minibatch in train_loader:\n",
        "        inputs, labels = minibatch_to_cuda(minibatch, net)\n",
        "\n",
        "        optimizer.zero_grad()\n",
        "\n",
        "        # forward + backward + optimize\n",
        "        outputs = net(inputs)\n",
        "        loss = criterion(outputs, labels)\n",
        "        loss.backward()\n",
        "        optimizer.step()\n",
        "\n",
        "        minibatch_cost += loss.item() / len(train_loader)\n",
        "\n",
        "    if epoch % 1 == 0:\n",
        "        costs.append(minibatch_cost)\n",
        "        record_1 = 'Cost after epoch {}: {}'.format(epoch, minibatch_cost)\n",
        "        print(record_1)\n",
        "        f.write(record_1 + '\\n')\n",
        "\n",
        "    # Print train and test sets accuracy after each 5th epoch:\n",
        "    if epoch % 5 == 0:\n",
        "\n",
        "        # swtich the model to eval mode to disable the dropout  layers\n",
        "        total_train, correct_train = prediction_count(train_loader, net)\n",
        "        total_test, correct_test = prediction_count(test_loader, net)\n",
        "\n",
        "        train_error['epoch'].append(epoch)\n",
        "        train_error['error'].append(round(1 - correct_train/total_train, 4)*100)\n",
        "        test_error['epoch'].append(epoch)\n",
        "        test_error['error'].append(round(1 - correct_test/total_test, 4)*100)\n",
        "\n",
        "        record_2 = 'Training set error: {}%'.format(train_error['error'][-1])\n",
        "        record_3 = 'Test set error: {}%'.format(test_error['error'][-1])\n",
        "        print(record_2)\n",
        "        print(record_3)\n",
        "\n",
        "        f.write(record_2 + '\\n' +  record_3 + '\\n')\n",
        "\n",
        "\n",
        "    # Save the checkpoint\n",
        "    if epoch > 10 and costs[-1] < min(costs[0:-1]):\n",
        "        torch.save({'epoch': epoch,\n",
        "                   'model_state_dict': net.state_dict(),\n",
        "                   'optimizer_state_dict': optimizer.state_dict(),\n",
        "                   'cost': costs[-1]\n",
        "                    }, MODEL_PATH)\n",
        "\n",
        "    # Execute one step of learning rate scheduler (to apply learning rate decay)\n",
        "    scheduler.step()\n",
        "\n",
        "print('Training completed!')\n",
        "\n",
        "dateTimeObj = datetime.now()\n",
        "time = dateTimeObj.strftime(\"%d-%b-%Y %H:%M:%S\")\n",
        "f.write('Training completed at {}\\n\\n\\n'.format(time))\n",
        "f.close()\n",
        "\n",
        "# Visualize the training results and model's performance\n",
        "plot_train_results(epochs, costs, train_error, test_error)"
      ],
      "execution_count": 13,
      "outputs": [
        {
          "output_type": "stream",
          "text": [
            "Cost after epoch 1: 0.33843361871242544\n",
            "Cost after epoch 2: 0.13012532846927635\n",
            "Cost after epoch 3: 0.10471451134979724\n",
            "Cost after epoch 4: 0.08842835466265676\n",
            "Cost after epoch 5: 0.0759521977648139\n",
            "Training set error: 1.11%\n",
            "Test set error: 0.64%\n",
            "Cost after epoch 6: 0.03297852790504694\n",
            "Cost after epoch 7: 0.027587552587688018\n",
            "Cost after epoch 8: 0.02381175220161675\n",
            "Cost after epoch 9: 0.02309813582450153\n",
            "Cost after epoch 10: 0.020019448657333846\n",
            "Training set error: 0.5599999999999999%\n",
            "Test set error: 0.47000000000000003%\n",
            "Cost after epoch 11: 0.020092244341969483\n",
            "Cost after epoch 12: 0.016196092435717582\n",
            "Cost after epoch 13: 0.015911092959344394\n",
            "Cost after epoch 14: 0.014016161918640135\n",
            "Cost after epoch 15: 0.013982469142973415\n",
            "Training set error: 0.44%\n",
            "Test set error: 0.52%\n",
            "Cost after epoch 16: 0.012749470280110822\n",
            "Cost after epoch 17: 0.010871443253755561\n",
            "Cost after epoch 18: 0.011274723510444165\n",
            "Cost after epoch 19: 0.01070424481034278\n",
            "Cost after epoch 20: 0.011252980281412603\n",
            "Training set error: 0.27%\n",
            "Test set error: 0.51%\n",
            "Cost after epoch 21: 0.00939683850407601\n",
            "Cost after epoch 22: 0.007740867894887923\n",
            "Cost after epoch 23: 0.008447184690833089\n",
            "Cost after epoch 24: 0.008718402442336072\n",
            "Cost after epoch 25: 0.008576047384738925\n",
            "Training set error: 0.26%\n",
            "Test set error: 0.49%\n",
            "Cost after epoch 26: 0.008281897667050366\n",
            "Cost after epoch 27: 0.007835317468643186\n",
            "Cost after epoch 28: 0.007710513205826283\n",
            "Cost after epoch 29: 0.007842020693421355\n",
            "Cost after epoch 30: 0.00745063714534045\n",
            "Training set error: 0.24%\n",
            "Test set error: 0.44%\n",
            "Cost after epoch 31: 0.007928641921281804\n",
            "Cost after epoch 32: 0.0064244947761297145\n",
            "Cost after epoch 33: 0.007700081861019143\n",
            "Cost after epoch 34: 0.005895352907478813\n",
            "Cost after epoch 35: 0.006149493010342124\n",
            "Training set error: 0.22%\n",
            "Test set error: 0.44%\n",
            "Cost after epoch 36: 0.006820221847295761\n",
            "Cost after epoch 37: 0.006375038342177874\n",
            "Cost after epoch 38: 0.006415000070631505\n",
            "Cost after epoch 39: 0.006550238634645948\n",
            "Cost after epoch 40: 0.00649227430969477\n",
            "Training set error: 0.22999999999999998%\n",
            "Test set error: 0.42%\n",
            "Training completed!\n"
          ],
          "name": "stdout"
        },
        {
          "output_type": "display_data",
          "data": {
            "image/png": "[encoded data removed]",
            "text/plain": [
              "<Figure size 720x480 with 2 Axes>"
            ]
          },
          "metadata": {
            "tags": []
          }
        }
      ]
    },
    {
      "cell_type": "code",
      "metadata": {
        "id": "T2TzC7XxSxQ2",
        "colab_type": "code",
        "colab": {}
      },
      "source": [
        "# Make a forward pass and select some mislabeled images:\n",
        "num_images = 6\n",
        "\n",
        "outputs, labels = forward_pass(test_loader, net)\n",
        "_, predicted = torch.max(outputs, 1)"
      ],
      "execution_count": 0,
      "outputs": []
    },
    {
      "cell_type": "code",
      "metadata": {
        "id": "MvnqZ5xKIern",
        "colab_type": "code",
        "colab": {
          "base_uri": "https://localhost:8080/",
          "height": 484
        },
        "outputId": "dddfc004-30e9-43ae-c0f1-1ba36e4ac845"
      },
      "source": [
        "# collect the indices of the mislabeled images\n",
        "idx = torch.nonzero(predicted != labels).squeeze()\n",
        "selected = np.random.choice(len(idx), num_images, replace=False)\n",
        "selected_idx = idx[selected].tolist()\n",
        "\n",
        "fig, axes = plt.subplots(2, 3, figsize=(8,8))\n",
        "for ax, idx in zip(axes.flat, selected_idx):\n",
        "    ax.set_title('True label : {}'.format(mnist_test[idx][1]))\n",
        "    ax.imshow(mnist_test[idx][0].squeeze(0).numpy())\n",
        "plt.tight_layout()\n",
        "plt.show()"
      ],
      "execution_count": 133,
      "outputs": [
        {
          "output_type": "display_data",
          "data": {
            "image/png": "[encoded data removed]",
            "text/plain": [
              "<Figure size 576x576 with 6 Axes>"
            ]
          },
          "metadata": {
            "tags": []
          }
        }
      ]
    },
    {
      "cell_type": "code",
      "metadata": {
        "id": "SU5YkSPfcJJR",
        "colab_type": "code",
        "colab": {}
      },
      "source": [
        ""
      ],
      "execution_count": 0,
      "outputs": []
    }
  ]
}